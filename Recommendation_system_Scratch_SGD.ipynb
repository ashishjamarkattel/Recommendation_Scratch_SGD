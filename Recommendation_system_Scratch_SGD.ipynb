{
 "cells": [
  {
   "cell_type": "markdown",
   "metadata": {
    "id": "AL6njTf8WBO0"
   },
   "source": [
    "<pre>\n",
    "\n",
    "1  The data will be of this format, each data point is represented as a triplet of user_id, movie_id and rating \n",
    "\n",
    "<table>\n",
    "<tr><th>user_id</th><th>movie_id</th><th>rating</th></tr>\n",
    "<tr><td>77</td><td>236</td><td>3</td></tr>\n",
    "<tr><td>471</td><td>208</td><td>5</td></tr>\n",
    "<tr><td>641</td><td>401</td><td>4</td></tr>\n",
    "<tr><td>31</td><td>298</td><td>4</td></tr>\n",
    "<tr><td>58</td><td>504</td><td>5</td></tr>\n",
    "<tr><td>235</td><td>727</td><td>5</td></tr>\n",
    "</table>"
   ]
  },
  {
   "cell_type": "markdown",
   "metadata": {
    "id": "8Aj8SXeQWlZd"
   },
   "source": [
    "$$\n",
    "L = \\min_{ b, c, \\{ u_i \\}_{i=1}^N, \\{ v_j \\}_{j=1}^M}\n",
    "\\quad\n",
    "\\alpha \\Big(\n",
    "    \\sum_{j} \\sum_{k} v_{jk}^2 \n",
    "    + \\sum_{i} \\sum_{k} u_{ik}^2 \n",
    "    + \\sum_{i} b_i^2\n",
    "    + \\sum_{j} c_i^2\n",
    "    \\Big)\n",
    "+ \\sum_{i,j \\in \\mathcal{I}^{\\text{train}}}\n",
    "    (y_{ij} - \\mu - b_i - c_j - u_i^T v_j)^2\n",
    "$$"
   ]
  },
  {
   "cell_type": "markdown",
   "metadata": {
    "id": "2Q5bnWyZXrM7"
   },
   "source": [
    "<ul>\n",
    "<li><span class=\"math\">\\(\\mu\\)</span> : scalar mean rating</li>\n",
    "<li><span class=\"math\">\\(b_i\\)</span> : scalar bias term for user <span class=\"math\">\\(i\\)</span></li>\n",
    "<li><span class=\"math\">\\(c_j\\)</span> : scalar bias term for movie <span class=\"math\">\\(j\\)</span></li>\n",
    "<li><span class=\"math\">\\(u_i\\)</span> : K-dimensional vector for user <span class=\"math\">\\(i\\)</span></li>\n",
    "<li><span class=\"math\">\\(v_j\\)</span> : K-dimensional vector for movie <span class=\"math\">\\(j\\)</span></li>\n",
    "</ul>\n",
    "\n",
    " $ \\ $\n"
   ]
  },
  {
   "cell_type": "markdown",
   "metadata": {
    "id": "VlPVJoZ8JN4P"
   },
   "source": [
    "## Recommendation System \n",
    "\n",
    "<pre>\n",
    "Recommendation system is type of system that has ability to recommend. \n",
    "Recommendation can be of various things like you recommending your friend \n",
    "to buy something that you like or u recommending your friend to watch the series you watch. \n",
    "\n",
    "This kind of recommendation helps to make user experience easy and less time consuming as you dont have to spend much time surfing internet that you like. This is the reason why big internet company pays a big chunk of money in building the best recommendation system in their product.\n",
    "\n",
    "There are generally two type of recommendation system.\n",
    "1. Content based.\n",
    "2. Collaborative filtering.\n",
    "\n",
    "Since Content based is easy as it can be translated in the regression or classification problem.\n",
    "Regression  when we have to predict the rating of the movie by the user and Classification when we have to predict what might user like .\n",
    "\n",
    "<font color=\"RED\">Note: It is mostly domain specific whether or not you want to formulate your problem as Regression or Classification.</font>\n",
    "\n",
    "\n",
    "In this we typically have information \n",
    "about the user. The information might be \n",
    "\n",
    "    1. Geo location.\n",
    "    2. Device he is using.\n",
    "    3. Surfying from.\n",
    "    4. Have taste in which product and many more.\n",
    "    \n",
    "    \n",
    "As this post is not about regression or classification we will mostly focus on Collaborative filtering type of \n",
    "recommendation system.\n",
    "Recommending using collaborative include <b>Cosine similarity</b> computation or <b> Knn distance</b> Calculation.\n",
    "But in this article is will be discussion about <b> Matrix Factorization.</b>\n",
    "\n",
    "<font color='red'>Matrix Factorization</font>\n",
    "\n",
    "Matrix Factorization is decompostion of higher matrix in smaller matrix. I usually seems this problem as <font color=\"red\">(a+b)^2 = (a^2+2ab+b^2)</font> as here also bigger function are broken down in to smaller subset to get eact values which reduce computaion and is less time comsuming.\n",
    "So, by that we have clear understanding if we break the higher matrix we can compute faster.So this is the basic idea of decomposition i.e Factorization.\n",
    "\n",
    "So how does this thing is useful in recommendation sytem?\n",
    "Ans is simple as we have the sparse matrix of the A with B. we could fill the sparsness of the matrix just by predicting whether or not user would like the item B which he has never tasted.\n",
    "\n",
    "\n",
    "let take the example of netflix.\n",
    "\n",
    "User will not have seen all the movie present in the netfilx so matrix will be sparse. So how do we identify if user will like the movie or not.\n",
    "Here where Matrix Factorization comes in handy.\n",
    "\n",
    "let A be the matrix which is decomposed into B and C.\n",
    "as,\n",
    "</pre>\n",
    "$A_{n*m}$  = $B_{n*d}$ * $C_{d*m}$\n",
    "<pre>\n",
    "where d > 0 and d <= min(n,m)<br>\n",
    "so for user and rating <br>\n",
    "</pre>\n",
    "B becomes $User_{i}$ and C becomes $Rating_{i}$ <br>\n",
    "<pre>\n",
    "So with this logic\n",
    "</pre>\n",
    "${A}_{i,j}$ = ${B}_{i} * ${C}_{j}\n",
    "<pre>\n",
    "where,\n",
    "</pre>\n",
    "${A}_{i,j}$ \n",
    "<pre>\n",
    "refers to multiplication of Ith column of B with Jth colum of C. ie B * C.Transpose\n",
    "</pre>\n"
   ]
  },
  {
   "cell_type": "markdown",
   "metadata": {
    "id": "Q2XrlYeuJOFq"
   },
   "source": [
    "<pre>\n",
    "So, if we are able to get B and C it will form A. Less the differnce between the Non zero values of Matrix A with Matrix B * Matrix C.Tranpose. Now, this becomes the optimzation problem, where we have to minimize the A with B * C.Transpose. \n",
    "\n",
    "Optimization problem can be solved using simple SGD.\n",
    "</pre>"
   ]
  },
  {
   "cell_type": "markdown",
   "metadata": {
    "id": "3-aBnRepA6gy"
   },
   "source": [
    "<br>"
   ]
  },
  {
   "cell_type": "markdown",
   "metadata": {
    "id": "iVJo-3njBQLf"
   },
   "source": [
    "<font color='red'> Reading the csv file </font>"
   ]
  },
  {
   "cell_type": "code",
   "execution_count": 56,
   "metadata": {
    "colab": {
     "base_uri": "https://localhost:8080/",
     "height": 195
    },
    "id": "hEhmfRD637EW",
    "outputId": "07189bd2-eb44-43c7-f225-022cc41d0ee6"
   },
   "outputs": [
    {
     "data": {
      "text/html": [
       "<div>\n",
       "<style scoped>\n",
       "    .dataframe tbody tr th:only-of-type {\n",
       "        vertical-align: middle;\n",
       "    }\n",
       "\n",
       "    .dataframe tbody tr th {\n",
       "        vertical-align: top;\n",
       "    }\n",
       "\n",
       "    .dataframe thead th {\n",
       "        text-align: right;\n",
       "    }\n",
       "</style>\n",
       "<table border=\"1\" class=\"dataframe\">\n",
       "  <thead>\n",
       "    <tr style=\"text-align: right;\">\n",
       "      <th></th>\n",
       "      <th>user_id</th>\n",
       "      <th>item_id</th>\n",
       "      <th>rating</th>\n",
       "    </tr>\n",
       "  </thead>\n",
       "  <tbody>\n",
       "    <tr>\n",
       "      <th>0</th>\n",
       "      <td>772</td>\n",
       "      <td>36</td>\n",
       "      <td>3</td>\n",
       "    </tr>\n",
       "    <tr>\n",
       "      <th>1</th>\n",
       "      <td>471</td>\n",
       "      <td>228</td>\n",
       "      <td>5</td>\n",
       "    </tr>\n",
       "    <tr>\n",
       "      <th>2</th>\n",
       "      <td>641</td>\n",
       "      <td>401</td>\n",
       "      <td>4</td>\n",
       "    </tr>\n",
       "    <tr>\n",
       "      <th>3</th>\n",
       "      <td>312</td>\n",
       "      <td>98</td>\n",
       "      <td>4</td>\n",
       "    </tr>\n",
       "    <tr>\n",
       "      <th>4</th>\n",
       "      <td>58</td>\n",
       "      <td>504</td>\n",
       "      <td>5</td>\n",
       "    </tr>\n",
       "  </tbody>\n",
       "</table>\n",
       "</div>"
      ],
      "text/plain": [
       "   user_id  item_id  rating\n",
       "0      772       36       3\n",
       "1      471      228       5\n",
       "2      641      401       4\n",
       "3      312       98       4\n",
       "4       58      504       5"
      ]
     },
     "execution_count": 56,
     "metadata": {},
     "output_type": "execute_result"
    }
   ],
   "source": [
    "import pandas as pd\n",
    "import numpy as np\n",
    "data=pd.read_csv('ratings_train.csv')\n",
    "data.head()"
   ]
  },
  {
   "cell_type": "code",
   "execution_count": 57,
   "metadata": {
    "colab": {
     "base_uri": "https://localhost:8080/",
     "height": 34
    },
    "id": "66ibGJ74hCde",
    "outputId": "627b068c-baa2-4751-f4d5-03a7c8e8b77b"
   },
   "outputs": [
    {
     "name": "stdout",
     "output_type": "stream",
     "text": [
      "The unique set of user are  :  (943,)\n",
      "The unique movie are :  (1662,)\n"
     ]
    }
   ],
   "source": [
    "print(\"The unique set of user are  : \", data.user_id.unique().shape)\n",
    "print(\"The unique movie are : \",data.item_id.unique().shape)"
   ]
  },
  {
   "cell_type": "code",
   "execution_count": 58,
   "metadata": {
    "id": "t44MNT40hZQW"
   },
   "outputs": [],
   "source": [
    "from scipy.sparse import csr_matrix\n",
    "adjacency_matrix = csr_matrix((data.rating.values,(data.user_id.values,data.item_id.values)))\n"
   ]
  },
  {
   "cell_type": "code",
   "execution_count": 59,
   "metadata": {
    "id": "-mCgC0WbhZTO"
   },
   "outputs": [
    {
     "name": "stdout",
     "output_type": "stream",
     "text": [
      "(943, 1681)\n"
     ]
    },
    {
     "data": {
      "text/plain": [
       "array([[5, 0, 4, ..., 0, 0, 0],\n",
       "       [4, 0, 0, ..., 0, 0, 0],\n",
       "       [0, 0, 0, ..., 0, 0, 0],\n",
       "       ...,\n",
       "       [0, 0, 0, ..., 0, 0, 0],\n",
       "       [0, 0, 0, ..., 0, 0, 0],\n",
       "       [0, 5, 0, ..., 0, 0, 0]], dtype=int64)"
      ]
     },
     "execution_count": 59,
     "metadata": {},
     "output_type": "execute_result"
    }
   ],
   "source": [
    "print(adjacency_matrix.shape)\n",
    "adjacency_matrix.toarray()\n"
   ]
  },
  {
   "cell_type": "markdown",
   "metadata": {
    "id": "83Vh4NoO_JyU"
   },
   "source": [
    "<font color='red'>Compute mean of ratings</font>"
   ]
  },
  {
   "cell_type": "code",
   "execution_count": 63,
   "metadata": {
    "id": "cBHuCn2QSEnl"
   },
   "outputs": [],
   "source": [
    "def m_u(ratings):\n",
    "\n",
    "    return np.mean(ratings)"
   ]
  },
  {
   "cell_type": "code",
   "execution_count": 64,
   "metadata": {
    "id": "iu1nn-1x3ebp"
   },
   "outputs": [
    {
     "name": "stdout",
     "output_type": "stream",
     "text": [
      "3.529480398257623\n"
     ]
    }
   ],
   "source": [
    "mu=m_u(data['rating'])\n",
    "print(mu)"
   ]
  },
  {
   "cell_type": "markdown",
   "metadata": {
    "id": "qSvAW1X94g3G"
   },
   "source": [
    "<font color='red'>Initialize $B_{i}$ and $C_{j}$"
   ]
  },
  {
   "cell_type": "code",
   "execution_count": 66,
   "metadata": {
    "id": "AyEJqPka4lBW"
   },
   "outputs": [],
   "source": [
    "def initialize(dim):\n",
    "\n",
    "    return np.zeros(dim)"
   ]
  },
  {
   "cell_type": "code",
   "execution_count": 79,
   "metadata": {
    "id": "Nlae9QAQ43Xz"
   },
   "outputs": [],
   "source": [
    "dim= adjacency_matrix.shape[0]# give the number of dimensions for b_i (Here b_i corresponds to users)\n",
    "b_i=initialize(dim)"
   ]
  },
  {
   "cell_type": "code",
   "execution_count": 80,
   "metadata": {
    "id": "rwuopn4HoEbP"
   },
   "outputs": [
    {
     "name": "stdout",
     "output_type": "stream",
     "text": [
      "(1681,)\n"
     ]
    }
   ],
   "source": [
    "dim= adjacency_matrix.shape[1]# give the number of dimensions for c_j (Here c_j corresponds to movies)\n",
    "c_j=initialize(dim)\n",
    "print(c_j.shape)"
   ]
  },
  {
   "cell_type": "markdown",
   "metadata": {
    "id": "DTDK4ZR18MrZ"
   },
   "source": [
    "<font color='red'>Compute dL/db_i</font>"
   ]
  },
  {
   "cell_type": "code",
   "execution_count": 70,
   "metadata": {
    "id": "3NFzVC1N8S4L"
   },
   "outputs": [],
   "source": [
    "def derivative_db(user_id,item_id,rating,U,V,mu,alpha):\n",
    "\n",
    "    reg = 2 * alpha * b_i[user_id]\n",
    "    der_loss = -2 * ( rating - mu - b_i[user_id] - c_j[item_id] - np.dot(U[user_id],V.T[item_id]))\n",
    "    total = reg + der_loss\n",
    "    return total\n"
   ]
  },
  {
   "cell_type": "markdown",
   "metadata": {
    "id": "1Kp0hC_b9v60"
   },
   "source": [
    "<font color='red'>Compute dL/dc_j</font>"
   ]
  },
  {
   "cell_type": "code",
   "execution_count": 72,
   "metadata": {
    "id": "FAtSYMrc9UqJ"
   },
   "outputs": [],
   "source": [
    "def derivative_dc(user_id,item_id,rating,U,V,mu,alpha):\n",
    "\n",
    "    reg=2*alpha*c_j[item_id]\n",
    "    loss=-2*(rating-mu-b_i[user_id]-c_j[item_id]-np.dot(U[user_id],V.T[item_id]))\n",
    "    der=reg+loss\n",
    "    return der"
   ]
  },
  {
   "cell_type": "markdown",
   "metadata": {
    "id": "D2pCy1AKCafw"
   },
   "source": [
    "<pre>\n",
    "for each epoch:\n",
    "\n",
    "    for each pair of (user, movie):\n",
    "\n",
    "        b_i =  b_i - learning_rate * dL/db_i\n",
    "\n",
    "        c_j =  c_j - learning_rate * dL/dc_j\n",
    "\n",
    "\n",
    "</pre>\n",
    "\n",
    "$\\hat{y}_{ij} = \\mu + b_i + c_j + \\text{dot_product}(u_i , v_j) $"
   ]
  },
  {
   "cell_type": "code",
   "execution_count": 74,
   "metadata": {
    "id": "kiKj-M6d2a-Y"
   },
   "outputs": [
    {
     "name": "stdout",
     "output_type": "stream",
     "text": [
      "(943, 10)\n",
      "(10, 1681)\n"
     ]
    },
    {
     "name": "stderr",
     "output_type": "stream",
     "text": [
      "100%|██████████| 20/20 [00:24<00:00,  1.23s/it]\n"
     ]
    }
   ],
   "source": [
    "from tqdm import tqdm\n",
    "from sklearn.metrics import mean_squared_error\n",
    "from sklearn.utils.extmath import randomized_svd\n",
    "y_act=data[\"rating\"]\n",
    "\n",
    "epochs = 20\n",
    "alpha = 0.01\n",
    "lr = 0.01\n",
    "mse = []\n",
    "U, Sigma, V = randomized_svd(adjacency_matrix, n_components=10,n_iter=5, random_state=None)\n",
    "print(U.shape)\n",
    "print(V.shape)\n",
    "for epoch in tqdm(range(epochs)):\n",
    "    y_pred = []\n",
    "    for user_id,item_id,rating in zip(data.user_id,data.item_id,data.rating):\n",
    "        dl_db = derivative_db(user_id,item_id,rating,U,V,mu,alpha)\n",
    "        b_i[user_id] = b_i[user_id] - (lr * dl_db)\n",
    "        dl_dc = derivative_dc(user_id,item_id,rating,U,V,mu,alpha)\n",
    "        c_j[item_id] = c_j[item_id] - (lr * dl_dc)\n",
    "        \n",
    "    for user,item,rating in zip(data.iloc[:, 0], data.iloc[:, 1],data.iloc[:, 2]):\n",
    "        pred=mu+b_i[user]+c_j[item]+np.dot(U[user],V.T[item])\n",
    "        y_pred.append(pred)\n",
    "    m= mean_squared_error(y_act,y_pred)\n",
    "    mse.append(m) \n",
    "#     print(EPOCH\"+\" \"+str(epoch+1))  \n",
    "#     print(\"MSE :\",m)"
   ]
  },
  {
   "cell_type": "code",
   "execution_count": 75,
   "metadata": {
    "id": "igkkO3EvVRt6"
   },
   "outputs": [
    {
     "data": {
      "text/plain": [
       "[<matplotlib.lines.Line2D at 0x13445cc8d60>]"
      ]
     },
     "execution_count": 75,
     "metadata": {},
     "output_type": "execute_result"
    },
    {
     "data": {
      "image/png": "[encoded data removed]",
      "text/plain": [
       "<Figure size 432x288 with 1 Axes>"
      ]
     },
     "metadata": {
      "needs_background": "light"
     },
     "output_type": "display_data"
    }
   ],
   "source": [
    "epochs = [ i for i in range(20)]\n",
    "import matplotlib.pyplot as plt\n",
    "plt.plot(epochs,mse)"
   ]
  },
  {
   "cell_type": "markdown",
   "metadata": {},
   "source": [
    "<font color=\"red\">Aternativing SGD</font>"
   ]
  },
  {
   "cell_type": "code",
   "execution_count": 84,
   "metadata": {},
   "outputs": [
    {
     "name": "stdout",
     "output_type": "stream",
     "text": [
      "(943, 10)\n",
      "(10, 1681)\n"
     ]
    },
    {
     "name": "stderr",
     "output_type": "stream",
     "text": [
      "100%|██████████| 20/20 [00:16<00:00,  1.20it/s]\n"
     ]
    }
   ],
   "source": [
    "from tqdm import tqdm\n",
    "from sklearn.metrics import mean_squared_error\n",
    "y_act=data[\"rating\"]\n",
    "\n",
    "epochs = 40\n",
    "alpha = 0.01\n",
    "lr = 0.01\n",
    "mse = []\n",
    "# y_pred = []\n",
    "U, Sigma, V = randomized_svd(adjacency_matrix, n_components=10,n_iter=5, random_state=None)\n",
    "print(U.shape)\n",
    "print(V.shape)\n",
    "ids = 0\n",
    "for epoch in tqdm(range(epochs)):\n",
    "    y_pred = []\n",
    "    ids +=1\n",
    "    for user_id,item_id,rating in zip(data.user_id,data.item_id,data.rating):\n",
    "        if ids//2==0:\n",
    "            dl_db = derivative_db(user_id,item_id,rating,U,V,mu,alpha)\n",
    "            b_i[user_id] = b_i[user_id] - (lr * dl_db)\n",
    "        else:\n",
    "            dl_dc = derivative_dc(user_id,item_id,rating,U,V,mu,alpha)\n",
    "            c_j[item_id] = c_j[item_id] - (lr * dl_dc)\n",
    "        \n",
    "    for user,item,rating in zip(data.iloc[:, 0], data.iloc[:, 1],data.iloc[:, 2]):\n",
    "        pred=mu+b_i[user]+c_j[item]+np.dot(U[user],V.T[item])\n",
    "        y_pred.append(pred)\n",
    "    m= mean_squared_error(y_act,y_pred)\n",
    "    mse.append(m)"
   ]
  },
  {
   "cell_type": "code",
   "execution_count": 85,
   "metadata": {},
   "outputs": [
    {
     "data": {
      "text/plain": [
       "[<matplotlib.lines.Line2D at 0x134435da8b0>]"
      ]
     },
     "execution_count": 85,
     "metadata": {},
     "output_type": "execute_result"
    },
    {
     "data": {
      "image/png": "[encoded data removed]",
      "text/plain": [
       "<Figure size 432x288 with 1 Axes>"
      ]
     },
     "metadata": {
      "needs_background": "light"
     },
     "output_type": "display_data"
    }
   ],
   "source": [
    "epochs = [ i for i in range(40)]\n",
    "import matplotlib.pyplot as plt\n",
    "plt.plot(epochs,mse)"
   ]
  },
  {
   "cell_type": "code",
   "execution_count": 89,
   "metadata": {},
   "outputs": [
    {
     "name": "stdout",
     "output_type": "stream",
     "text": [
      "0    3\n",
      "1    5\n",
      "2    4\n",
      "3    4\n",
      "4    5\n",
      "Name: rating, dtype: int64 [2.3830049785286316, 3.8835739526271915, 3.8789183491870376, 3.5473716689836023, 4.160467695861582]\n"
     ]
    }
   ],
   "source": [
    "print(y_act.head(), y_pred[:5])"
   ]
  },
  {
   "cell_type": "markdown",
   "metadata": {
    "id": "NeWAGkT6C9kq"
   },
   "source": [
    "<br>"
   ]
  },
  {
   "cell_type": "markdown",
   "metadata": {
    "id": "M3K5ZHmSHpWO"
   },
   "source": [
    "### <font color=\"red\">Conclusion</font>"
   ]
  },
  {
   "cell_type": "markdown",
   "metadata": {},
   "source": [
    "<pre>\n",
    ". If we train the model for more epoch there will be significantily drop in loss.\n",
    ". Model seems to perfom better.\n",
    ". Training the model to optimize U and VT would result in much better performance.\n",
    "</pre>"
   ]
  }
 ],
 "metadata": {
  "colab": {
   "collapsed_sections": [],
   "name": "Recommendation_system_assignment_final.ipynb",
   "provenance": []
  },
  "kernelspec": {
   "display_name": "Python 3 (ipykernel)",
   "language": "python",
   "name": "python3"
  },
  "language_info": {
   "codemirror_mode": {
    "name": "ipython",
    "version": 3
   },
   "file_extension": ".py",
   "mimetype": "text/x-python",
   "name": "python",
   "nbconvert_exporter": "python",
   "pygments_lexer": "ipython3",
   "version": "3.9.2"
  }
 },
 "nbformat": 4,
 "nbformat_minor": 1
}
